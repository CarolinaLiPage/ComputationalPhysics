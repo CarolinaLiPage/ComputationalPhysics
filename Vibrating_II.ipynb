{
 "cells": [
  {
   "cell_type": "code",
   "execution_count": 9,
   "metadata": {},
   "outputs": [
    {
     "name": "stdout",
     "output_type": "stream",
     "text": [
      "[-3.73205081 -3.         -2.         -0.26794919 -1.        ]\n",
      "[[-2.88675135e-01 -5.00000000e-01  5.77350269e-01  2.88675135e-01\n",
      "  -5.00000000e-01]\n",
      " [ 5.00000000e-01  5.00000000e-01 -8.85199041e-17  5.00000000e-01\n",
      "  -5.00000000e-01]\n",
      " [-5.77350269e-01 -1.92938494e-15 -5.77350269e-01  5.77350269e-01\n",
      "   1.09260986e-16]\n",
      " [ 5.00000000e-01 -5.00000000e-01 -3.97217852e-16  5.00000000e-01\n",
      "   5.00000000e-01]\n",
      " [-2.88675135e-01  5.00000000e-01  5.77350269e-01  2.88675135e-01\n",
      "   5.00000000e-01]]\n",
      "[1.9318516525781355, 1.732050807568878, 1.4142135623730945, 0.5176380902050413, 0.9999999999999999]\n"
     ]
    },
    {
     "data": {
      "image/png": "[encoded data removed]",
      "text/plain": [
       "<Figure size 432x288 with 1 Axes>"
      ]
     },
     "metadata": {
      "needs_background": "light"
     },
     "output_type": "display_data"
    },
    {
     "ename": "LinAlgError",
     "evalue": "1-dimensional array given. Array must be at least two-dimensional",
     "output_type": "error",
     "traceback": [
      "\u001b[0;31m---------------------------------------------------------------------------\u001b[0m",
      "\u001b[0;31mLinAlgError\u001b[0m                               Traceback (most recent call last)",
      "\u001b[0;32m<ipython-input-9-4a492f195171>\u001b[0m in \u001b[0;36m<module>\u001b[0;34m\u001b[0m\n\u001b[1;32m     37\u001b[0m \u001b[0;31m# 1) Only one mass cannot move by itself since we could get the eigenvalue and eigenvector by only one mass\u001b[0m\u001b[0;34m\u001b[0m\u001b[0;34m\u001b[0m\u001b[0;34m\u001b[0m\u001b[0m\n\u001b[1;32m     38\u001b[0m \u001b[0mB\u001b[0m \u001b[0;34m=\u001b[0m \u001b[0mnp\u001b[0m\u001b[0;34m.\u001b[0m\u001b[0marray\u001b[0m\u001b[0;34m(\u001b[0m\u001b[0;34m[\u001b[0m\u001b[0;36m2\u001b[0m\u001b[0;34m]\u001b[0m\u001b[0;34m)\u001b[0m\u001b[0;34m\u001b[0m\u001b[0;34m\u001b[0m\u001b[0m\n\u001b[0;32m---> 39\u001b[0;31m \u001b[0mw0\u001b[0m\u001b[0;34m,\u001b[0m\u001b[0mv0\u001b[0m \u001b[0;34m=\u001b[0m \u001b[0meig\u001b[0m\u001b[0;34m(\u001b[0m\u001b[0mB\u001b[0m\u001b[0;34m)\u001b[0m\u001b[0;34m\u001b[0m\u001b[0;34m\u001b[0m\u001b[0m\n\u001b[0m\u001b[1;32m     40\u001b[0m \u001b[0mprint\u001b[0m\u001b[0;34m(\u001b[0m\u001b[0mw0\u001b[0m\u001b[0;34m)\u001b[0m\u001b[0;34m\u001b[0m\u001b[0;34m\u001b[0m\u001b[0m\n\u001b[1;32m     41\u001b[0m \u001b[0mprint\u001b[0m\u001b[0;34m(\u001b[0m\u001b[0mv0\u001b[0m\u001b[0;34m)\u001b[0m\u001b[0;34m\u001b[0m\u001b[0;34m\u001b[0m\u001b[0m\n",
      "\u001b[0;32m<__array_function__ internals>\u001b[0m in \u001b[0;36meig\u001b[0;34m(*args, **kwargs)\u001b[0m\n",
      "\u001b[0;32m~/opt/anaconda3/lib/python3.8/site-packages/numpy/linalg/linalg.py\u001b[0m in \u001b[0;36meig\u001b[0;34m(a)\u001b[0m\n\u001b[1;32m   1314\u001b[0m     \"\"\"\n\u001b[1;32m   1315\u001b[0m     \u001b[0ma\u001b[0m\u001b[0;34m,\u001b[0m \u001b[0mwrap\u001b[0m \u001b[0;34m=\u001b[0m \u001b[0m_makearray\u001b[0m\u001b[0;34m(\u001b[0m\u001b[0ma\u001b[0m\u001b[0;34m)\u001b[0m\u001b[0;34m\u001b[0m\u001b[0;34m\u001b[0m\u001b[0m\n\u001b[0;32m-> 1316\u001b[0;31m     \u001b[0m_assert_stacked_2d\u001b[0m\u001b[0;34m(\u001b[0m\u001b[0ma\u001b[0m\u001b[0;34m)\u001b[0m\u001b[0;34m\u001b[0m\u001b[0;34m\u001b[0m\u001b[0m\n\u001b[0m\u001b[1;32m   1317\u001b[0m     \u001b[0m_assert_stacked_square\u001b[0m\u001b[0;34m(\u001b[0m\u001b[0ma\u001b[0m\u001b[0;34m)\u001b[0m\u001b[0;34m\u001b[0m\u001b[0;34m\u001b[0m\u001b[0m\n\u001b[1;32m   1318\u001b[0m     \u001b[0m_assert_finite\u001b[0m\u001b[0;34m(\u001b[0m\u001b[0ma\u001b[0m\u001b[0;34m)\u001b[0m\u001b[0;34m\u001b[0m\u001b[0;34m\u001b[0m\u001b[0m\n",
      "\u001b[0;32m~/opt/anaconda3/lib/python3.8/site-packages/numpy/linalg/linalg.py\u001b[0m in \u001b[0;36m_assert_stacked_2d\u001b[0;34m(*arrays)\u001b[0m\n\u001b[1;32m    195\u001b[0m     \u001b[0;32mfor\u001b[0m \u001b[0ma\u001b[0m \u001b[0;32min\u001b[0m \u001b[0marrays\u001b[0m\u001b[0;34m:\u001b[0m\u001b[0;34m\u001b[0m\u001b[0;34m\u001b[0m\u001b[0m\n\u001b[1;32m    196\u001b[0m         \u001b[0;32mif\u001b[0m \u001b[0ma\u001b[0m\u001b[0;34m.\u001b[0m\u001b[0mndim\u001b[0m \u001b[0;34m<\u001b[0m \u001b[0;36m2\u001b[0m\u001b[0;34m:\u001b[0m\u001b[0;34m\u001b[0m\u001b[0;34m\u001b[0m\u001b[0m\n\u001b[0;32m--> 197\u001b[0;31m             raise LinAlgError('%d-dimensional array given. Array must be '\n\u001b[0m\u001b[1;32m    198\u001b[0m                     'at least two-dimensional' % a.ndim)\n\u001b[1;32m    199\u001b[0m \u001b[0;34m\u001b[0m\u001b[0m\n",
      "\u001b[0;31mLinAlgError\u001b[0m: 1-dimensional array given. Array must be at least two-dimensional"
     ]
    }
   ],
   "source": [
    "from numpy import shape, array\n",
    "import numpy as np\n",
    "from numpy.linalg import eig\n",
    "import matplotlib.pyplot as plt\n",
    "import math\n",
    "\n",
    "A = np.array([[-2,1,0,0,0],[1,-2,1,0,0],[0,1,-2,1,0],[0,0,1,-2,1],[0,0,0,1,-2]])\n",
    "w,v = eig(A)\n",
    "# print(\"First pair: \", w[0],v[:,0])\n",
    "# print(\"Second pair: \", w[1],v[:,1])\n",
    "# print(\"Third pair: \", w[2],v[:,2])\n",
    "# print(\"Third pair: \", w[2],v[:,2])\n",
    "# print(\"Third pair: \", w[2],v[:,2])\n",
    "print(w)\n",
    "print(v)\n",
    "\n",
    "frequencies = [math.sqrt(-x) for x in w]\n",
    "print(frequencies)\n",
    "\n",
    "eig_vec0 = v[:,0]\n",
    "eig_vec1 = v[:,1]\n",
    "eig_vec2 = v[:,2]\n",
    "eig_vec3 = v[:,3]\n",
    "eig_vec4 = v[:,4]\n",
    "origin = [0,0,0,0,0]\n",
    "plt.quiver(origin, eig_vec0, color=['r'], scale=21)\n",
    "plt.quiver(origin, eig_vec1, color=['b'], scale=21)\n",
    "plt.quiver(origin, eig_vec2, color=['g'], scale=21)\n",
    "plt.quiver(origin, eig_vec3, color=['orange'], scale=21)\n",
    "plt.quiver(origin, eig_vec4, color=['black'], scale=21)\n",
    "plt.show()\n",
    "\n",
    "from numpy import shape, array\n",
    "import numpy as np\n",
    "from numpy.linalg import eig\n",
    "import matplotlib.pyplot as plt\n",
    "# 1) Only one mass cannot move by itself since we could get the eigenvalue and eigenvector by only one mass\n",
    "B = np.array([2])\n",
    "w0,v0 = eig(B)\n",
    "print(w0)\n",
    "print(v0)\n",
    "eig_vec0 = v0[:,0]\n",
    "origin = [0]\n",
    "plt.quiver(origin, eig_vec0, color=['r'], scale=21)\n",
    "plt.show()\n",
    "\n",
    "from numpy import shape, array\n",
    "import numpy as np\n",
    "from numpy.linalg import eig\n",
    "import matplotlib.pyplot as plt\n",
    "# 2) Only three masses could move by itself\n",
    "B = np.array([[0,1,2],[0,0,1],[2,1,0]])\n",
    "w0,v0 = eig(B)\n",
    "print(w0)\n",
    "print(v0)\n",
    "eig_vec0 = v0[:,0]\n",
    "eig_vec1 = v0[:,1]\n",
    "eig_vec2 = v0[:,2]\n",
    "origin = [0,0,0]\n",
    "plt.quiver(origin, eig_vec0, color=['r'], scale=21)\n",
    "plt.quiver(origin, eig_vec1, color=['g'], scale=21)\n",
    "plt.quiver(origin, eig_vec2, color=['b'], scale=21)\n",
    "plt.show()\n",
    "\n",
    "# 3) [-2.88675135e-01 -5.00000000e-01  5.77350269e-01  2.88675135e-01 -5.00000000e-01]\n",
    "# round 2 sig figs [-0.29,-0.50,0.57,0.29,-0.50]\n",
    "# The result is below\n",
    "\n",
    "#Summary: The initial conditions affect the vibrating pattern of the system\n",
    "\n",
    "\n",
    "\n"
   ]
  },
  {
   "cell_type": "code",
   "execution_count": 7,
   "metadata": {},
   "outputs": [
    {
     "data": {
      "text/plain": [
       "array([-0.08157677, -0.49      , -0.57157677,  1.06157677,  0.49      ])"
      ]
     },
     "execution_count": 7,
     "metadata": {},
     "output_type": "execute_result"
    }
   ],
   "source": [
    "from numpy import shape, array\n",
    "import numpy as np\n",
    "from numpy.linalg import eig\n",
    "import matplotlib.pyplot as plt\n",
    "\n",
    "# 4)\n",
    "v1 = np.array([-5.77350269e-01,-1.92938494e-15,-5.77350269e-01 ,5.77350269e-01,1.09260986e-16])\n",
    "v2 = np.array([ 5.00000000e-01,-5.00000000e-01,-3.97217852e-16 ,5.00000000e-01,5.00000000e-01])\n",
    "a = 0.99\n",
    "b = 0.98\n",
    "v3 = a*v1+b*v2\n",
    "v3\n",
    "\n",
    "# v3 [-0.08157677, -0.49      , -0.57157677,  1.06157677,  0.49      ]\n",
    "# 2 sig figs [-0.08,-0.49,-0.57,1.1,0.49]"
   ]
  },
  {
   "cell_type": "code",
   "execution_count": 8,
   "metadata": {},
   "outputs": [
    {
     "data": {
      "text/plain": [
       "array([-2.64655897,  2.25      ,  5.94670777,  3.64655897,  7.25      ])"
      ]
     },
     "execution_count": 8,
     "metadata": {},
     "output_type": "execute_result"
    }
   ],
   "source": [
    "# The linear combination will vibrate in a linear combination of the two systems\n",
    "\n",
    "\n",
    "# 5) \n",
    "#  [-2.88675135e-01 -5.00000000e-01  5.77350269e-01  2.88675135e-01 -5.00000000e-01]\n",
    "#  [ 5.00000000e-01  5.00000000e-01 -8.85199041e-17  5.00000000e-01 -5.00000000e-01]\n",
    "#  [-5.77350269e-01 -1.92938494e-15 -5.77350269e-01  5.77350269e-01 1.09260986e-16]\n",
    "#  [ 5.00000000e-01 -5.00000000e-01 -3.97217852e-16  5.00000000e-01 5.00000000e-01]\n",
    "#  [-2.88675135e-01  5.00000000e-01  5.77350269e-01  2.88675135e-01 5.00000000e-01]\n",
    "from numpy import shape, array\n",
    "import numpy as np\n",
    "from numpy.linalg import eig\n",
    "import matplotlib.pyplot as plt\n",
    "\n",
    "v0 = np.array([-2.88675135e-01,-5.00000000e-01,5.77350269e-01  ,2.88675135e-01,-5.00000000e-01])\n",
    "v1 = np.array([-5.77350269e-01,-1.92938494e-15,-5.77350269e-01 ,5.77350269e-01,1.09260986e-16])\n",
    "v2 = np.array([ 5.00000000e-01,-5.00000000e-01,-3.97217852e-16 ,5.00000000e-01,5.00000000e-01])\n",
    "v3 = np.array([-2.88675135e-01,5.00000000e-01,5.77350269e-01 ,2.88675135e-01,5.00000000e-01])\n",
    "v4 = np.array([ 5.00000000e-01,5.00000000e-01,-8.85199041e-17 ,5.00000000e-01,-5.00000000e-01])\n",
    "\n",
    "a = 0.5\n",
    "b = 0.2\n",
    "c = 3\n",
    "d = 10\n",
    "e = -2\n",
    "v5 = a*v0+b*v1+c*v2+d*v3+e*v4\n",
    "v5\n",
    "\n",
    "# v5 [-2.64655897,  2.25      ,  5.94670777,  3.64655897,  7.25  ]\n",
    "# 2 sig figs [-2.6,2.3,5.9,3.6,7.3]\n"
   ]
  },
  {
   "cell_type": "code",
   "execution_count": null,
   "metadata": {},
   "outputs": [],
   "source": []
  }
 ],
 "metadata": {
  "kernelspec": {
   "display_name": "Python 3",
   "language": "python",
   "name": "python3"
  },
  "language_info": {
   "codemirror_mode": {
    "name": "ipython",
    "version": 3
   },
   "file_extension": ".py",
   "mimetype": "text/x-python",
   "name": "python",
   "nbconvert_exporter": "python",
   "pygments_lexer": "ipython3",
   "version": "3.8.5"
  }
 },
 "nbformat": 4,
 "nbformat_minor": 4
}
