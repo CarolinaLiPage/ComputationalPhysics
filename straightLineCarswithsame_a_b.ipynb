{
  "nbformat": 4,
  "nbformat_minor": 0,
  "metadata": {
    "colab": {
      "name": "straightLineCarswithsame_a_b.ipynb",
      "provenance": [],
      "collapsed_sections": []
    },
    "kernelspec": {
      "name": "python3",
      "display_name": "Python 3"
    },
    "language_info": {
      "name": "python"
    }
  },
  "cells": [
    {
      "cell_type": "code",
      "execution_count": 43,
      "metadata": {
        "colab": {
          "base_uri": "https://localhost:8080/",
          "height": 314
        },
        "id": "ZyKbx-4kusRg",
        "outputId": "0f0f3584-98f0-42fe-cd1e-94b26bc20294"
      },
      "outputs": [
        {
          "output_type": "execute_result",
          "data": {
            "text/plain": [
              "[Text(0, 0.5, 'Velocity (m/s)'), Text(0.5, 0, 'Time (sec)')]"
            ]
          },
          "metadata": {},
          "execution_count": 43
        },
        {
          "output_type": "display_data",
          "data": {
            "text/plain": [
              "<Figure size 432x288 with 0 Axes>"
            ]
          },
          "metadata": {}
        },
        {
          "output_type": "display_data",
          "data": {
            "image/png": "[encoded data removed]",
            "text/plain": [
              "<Figure size 432x288 with 2 Axes>"
            ]
          },
          "metadata": {
            "needs_background": "light"
          }
        }
      ],
      "source": [
        "#Straight line model\n",
        "#Assume there are 10 cars in total, and the length of the straight line is 1000 meters\n",
        "\n",
        "from numpy import linspace,array,zeros,log,exp,sin,cos,sqrt,pi\n",
        "from scipy.integrate import odeint\n",
        "import matplotlib.pyplot as plt\n",
        "\n",
        "class Car:\n",
        "  def __init__(self,xinit,vinit,v_ahead,x_gap):\n",
        "    # set parameters\n",
        "    self.T = 1.8 #time headway\n",
        "    self.delta_exp = 4\n",
        "    self.L = 5\n",
        "    self.a_accel = 0.3\n",
        "    self.b_decel = 3\n",
        "    self.v0 = 28 #desired speed in m/s\n",
        "    self.s0 = 2.0 #desired gap m\n",
        "    # Starting position and speed of car ahead\n",
        "    self.x_a0 = xinit + x_gap\n",
        "    self.v_a = v_ahead\n",
        "    # set initial conditions for the car being modeled\n",
        "    self.xinit = xinit\n",
        "    self.vinit = vinit\n",
        "    # pack i.c.\n",
        "    self.X0=array([xinit, vinit])\n",
        "    return\n",
        "\n",
        "  def rate_func(self, t, V ):\n",
        "    # RATE_FUNC: IDM Car model\n",
        "    # Model a car approaching a car ahead moving at constant speed\n",
        "    # unpack\n",
        "    x = V[0] # position\n",
        "    v = V[1] # velocity\n",
        "    # Position of the car ahead\n",
        "    x_a = self.x_a0 + self.v_a * t\n",
        "    \n",
        "    # Compute acceleration according to IDM\n",
        "    s = x_a - self.L - x # distance to car ahead\n",
        "    delv = v - self.v_a  # approach speed to car ahead\n",
        "        \n",
        "    star = self.s0 + self.T*v + v*delv/(2*sqrt(self.a_accel*self.b_decel))\n",
        "        \n",
        "    a_idm = self.a_accel*(1 - (v/self.v0)**self.delta_exp - (star/s)**2) # x component of acceleration\n",
        "          \n",
        "    # compute derivatives\n",
        "    dx = v\n",
        "    dv = a_idm\n",
        "    # pack rate array\n",
        "    rate = array([dx, dv])\n",
        "    return rate\n",
        "  def solve(self, Tstart,Tend):\n",
        "    # set the time interval for solving\n",
        "    # Tstart=0\n",
        "    # Tend =  400 # seconds\n",
        "    time = linspace(Tstart,Tend,100)\n",
        "    Xout = odeint(self.rate_func, self.X0, time, tfirst=True) \n",
        "    return Xout\n",
        "\n",
        "gap = 50\n",
        "Xouts = []\n",
        "for i in range(1,10):\n",
        "  car = Car((i-1)*gap, 0, 0, gap)\n",
        "  Xout = car.solve(0, 400)\n",
        "  Xouts.append(Xout)\n",
        "\n",
        "plt.figure(1)\n",
        "fig, [xplt,vplt] = plt.subplots(2)\n",
        "for i in range(len(Xouts)):\n",
        "  xout=Xouts[i][:,0]\n",
        "  vout=Xouts[i][:,1]\n",
        "  time = linspace(0,400,100)\n",
        "  xplt.plot(time, xout)\n",
        "xplt.set(ylabel='Distance (m)')\n",
        "xplt.label_outer()\n",
        "\n",
        "plt.figure(2)\n",
        "for i in range(len(Xouts)):\n",
        "  vout=Xouts[i][:,1]\n",
        "  time = linspace(0,400,100)\n",
        "  vplt.plot(time, vout)\n",
        "vplt.set(xlabel='Time (sec)', ylabel='Velocity (m/s)')\n",
        "\n",
        "\n"
      ]
    }
  ]
}