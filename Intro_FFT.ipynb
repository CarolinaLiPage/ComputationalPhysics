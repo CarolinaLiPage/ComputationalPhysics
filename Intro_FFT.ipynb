{
 "cells": [
  {
   "cell_type": "markdown",
   "metadata": {
    "id": "w-zxpD6sDOPB"
   },
   "source": [
    "Use the following to explore the FFT of a simple function:\n",
    "\n",
    "$f\\left(t\\right)=a\\:\\sin\\left(f_12\\pi t\\right)+b\\:\\sin\\left(f_22\\pi t\\right)+c\\:\\cos\\left(f_32\\pi t\\right)+d\\:\\cos\\left(f_42\\pi t\\right)+e $\n",
    "\n",
    "Fill in the blanks and try different frequencies ($f_1, f_2, f_3, f_4$) and combinations of sine and cosine functions to create f. \n",
    "\n",
    "Start with this preamble to load necessary modules"
   ]
  },
  {
   "cell_type": "code",
   "execution_count": 9,
   "metadata": {
    "id": "nkd3R9LYDHKB"
   },
   "outputs": [],
   "source": [
    "from numpy import linspace,array,zeros,log,exp,sin,cos,sqrt,pi,e,arange, real, imag, sign\n",
    "from matplotlib.pyplot import plot,xlabel,ylabel,legend,show, figure, subplot, title, tight_layout, stem\n",
    "from scipy.fftpack import fft\n",
    "from pylab import xlim"
   ]
  },
  {
   "cell_type": "markdown",
   "metadata": {
    "id": "mkZptXumDdY7"
   },
   "source": [
    "Now create a time array given a sample rate and number of observations. This is typical specification for a time series."
   ]
  },
  {
   "cell_type": "code",
   "execution_count": 10,
   "metadata": {
    "colab": {
     "base_uri": "https://localhost:8080/"
    },
    "id": "ajC2AHwIDmsy",
    "outputId": "81c68590-6ac8-4732-8e9f-e2539bcad060"
   },
   "outputs": [
    {
     "name": "stdout",
     "output_type": "stream",
     "text": [
      "2001\n",
      "1e-06\n",
      "0.0 0.002 1e-06\n"
     ]
    }
   ],
   "source": [
    "# time dimension\n",
    "\n",
    "Fs = 500 # Hz  sampling frequency: samples per second\n",
    "nt  = 2000 #     number of samples in record\n",
    "T =  1/Fs  # Time period of record\n",
    "dT = T/nt # sec   time between samples\n",
    "\n",
    "t=arange(0, T, dT)  #  time array in seconds using arange(start,stop,step)\n",
    "            #   note that arange actually stops *before* stop time which\n",
    "            #   is what we want (in a periodic function t=0 and t=T are the same)\n",
    "\n",
    "print(len(t))\n",
    "print(dT)\n",
    "print(t[0],t[-1],dT)"
   ]
  },
  {
   "cell_type": "markdown",
   "metadata": {
    "id": "Y2m0lyulDmO1"
   },
   "source": [
    "To test this, print out the first and last elements of t array and dt.\n",
    "\n",
    "Now construct the frequencies we will get from DFT"
   ]
  },
  {
   "cell_type": "code",
   "execution_count": 11,
   "metadata": {
    "colab": {
     "base_uri": "https://localhost:8080/"
    },
    "id": "_BKGIKBnDrf8",
    "outputId": "9eaf5190-c2fa-421f-b125-53a28f97ac8f"
   },
   "outputs": [
    {
     "name": "stdout",
     "output_type": "stream",
     "text": [
      "0 999000 1000\n",
      "1000\n",
      "Fundamental period and Nyquist Freq 0.002 1000000\n"
     ]
    }
   ],
   "source": [
    "# frequency dimension\n",
    "\n",
    "freqf = 1000 # Hz   fundamental frequency (lowest frequency)\n",
    "nfmax = int(nt/2) # number of frequencies resolved by FFT\n",
    "\n",
    "freqmax = freqf*nfmax # Max frequency (Nyquist)\n",
    "\n",
    "freq = arange(0,freqmax,freqf) # frequency array using arange(start,stop,step)\n",
    "# Note:\n",
    "#     include freq=0 (constant term), so freq[0]=0\n",
    "#     end one term before the  Nyquist (max) frequency, so freq[-1]=freqmax-freqf\n",
    "print(freq[0],freq[-1],freqf)\n",
    "print(len(freq))\n",
    "print('Fundamental period and Nyquist Freq',T, freqmax)"
   ]
  },
  {
   "cell_type": "markdown",
   "metadata": {
    "id": "bEeSsn6uDvQq"
   },
   "source": [
    "Select some frequencies and coefficiencts to build the function above. Start with low frequencies, that are small integer multiples of the fundamental (lowest) frequency. Then then try non-integer multiples. What happens? Try very high frequencies, close to the nyquist cutoff. What happens?"
   ]
  },
  {
   "cell_type": "code",
   "execution_count": 12,
   "metadata": {
    "colab": {
     "base_uri": "https://localhost:8080/"
    },
    "id": "MtgZms4vDwo1",
    "outputId": "eced34a5-393b-4387-bef4-1758103c37f9"
   },
   "outputs": [
    {
     "name": "stdout",
     "output_type": "stream",
     "text": [
      "Frequencies selected: 10000 20000 30000 40000\n",
      "2001\n"
     ]
    }
   ],
   "source": [
    "# select four frequencies \n",
    "f1=10*freqf\n",
    "f2=20*freqf\n",
    "f3=30*freqf\n",
    "f4=40*freqf\n",
    "\n",
    "print('Frequencies selected:', f1, f2, f3, f4)\n",
    "\n",
    "# Create f(t) = A sin(f1 2 pi t) + B sin(f2 2 pi t)  + C cos(f3 2 pi t) + D cos(f4 2 pi t) + E% \n",
    "# Where A B C D E are integers between -10 and + 10\n",
    "# Use your time array defined above so f is an array\n",
    "# with values at each of these times.\n",
    "# what is the equation for a sine or cos wave with frequency w1?\n",
    "#    this is an array over all values of time array t, not a \"function\"\n",
    "#    sin and cos can opperate on an array so no loop needed\n",
    "#    remember factor of 2pi\n",
    "#    basically, just write it like math!\n",
    "\n",
    "A = -2\n",
    "B = 1\n",
    "C = 3\n",
    "D = 5\n",
    "E = 8\n",
    "f = [] \n",
    "for v in t:\n",
    "    fv = A*sin(f1*2*pi*v)+B*sin(f2*2*pi*v)+C*cos(f3*2*pi*v)+D*cos(f4*2*pi*v)+E\n",
    "    f.append(fv)\n",
    "\n",
    "\n",
    "print(len(f))\n",
    "\n"
   ]
  },
  {
   "cell_type": "markdown",
   "metadata": {
    "id": "br0Gn4iDEoz3"
   },
   "source": [
    "The rest of the code needs no editing, just read to understand how it works."
   ]
  },
  {
   "cell_type": "markdown",
   "metadata": {
    "id": "IuqsJrdyEyVe"
   },
   "source": [
    "This block takes the FFT, constructs the a and b coefficients and the power spectrum"
   ]
  },
  {
   "cell_type": "code",
   "execution_count": 13,
   "metadata": {
    "id": "MkB5DXS-EqUQ"
   },
   "outputs": [],
   "source": [
    "# take FFT of this function\n",
    "F = fft(f)\n",
    "\n",
    "# get the coeffs\n",
    "a = 2*real(F[:nfmax])/nt # form the a coefficients\n",
    "a[0] = a[0]/2\n",
    "\n",
    "b = -2*imag(F[:nfmax])/nt # form the b coefficients\n",
    "\n",
    "p = sqrt(a**2 + b**2) # form power spectrum\n"
   ]
  },
  {
   "cell_type": "markdown",
   "metadata": {
    "id": "4p9iSNbQE3xf"
   },
   "source": [
    "This block makes some plots"
   ]
  },
  {
   "cell_type": "code",
   "execution_count": 14,
   "metadata": {
    "colab": {
     "base_uri": "https://localhost:8080/",
     "height": 297
    },
    "id": "m22BWggSE6xU",
    "outputId": "5db7da7d-ec51-42e0-c3fb-85bd4188c854"
   },
   "outputs": [
    {
     "data": {
      "image/png": "[encoded data removed]",
      "text/plain": [
       "<Figure size 432x288 with 2 Axes>"
      ]
     },
     "metadata": {
      "needs_background": "light"
     },
     "output_type": "display_data"
    }
   ],
   "source": [
    "## make some plots\n",
    "\n",
    "figure(1)\n",
    "\n",
    "subplot(2,1,1)\n",
    "plot(t,f)\n",
    "title('Signal')\n",
    "\n",
    "subplot(2,1,2)\n",
    "plot(freq, a, 'o', label='Cosine')\n",
    "plot(freq, b, '*', label='Sine')\n",
    "plot(freq,p,'-', label='Power')\n",
    "legend()\n",
    "\n",
    "title('FFT Fourier Coefficients')\n",
    "xmax = max([f1, f2, f3, f4])*1.15 # find max value and pad a bit (15%)\n",
    "xlim(0, xmax)\n",
    "\n",
    "tight_layout() # prevent squished plot (matplotlib kludge)\n"
   ]
  }
 ],
 "metadata": {
  "colab": {
   "collapsed_sections": [],
   "name": "Intro_FFT_.ipynb",
   "provenance": []
  },
  "kernelspec": {
   "display_name": "Python 3 (ipykernel)",
   "language": "python",
   "name": "python3"
  },
  "language_info": {
   "codemirror_mode": {
    "name": "ipython",
    "version": 3
   },
   "file_extension": ".py",
   "mimetype": "text/x-python",
   "name": "python",
   "nbconvert_exporter": "python",
   "pygments_lexer": "ipython3",
   "version": "3.9.7"
  }
 },
 "nbformat": 4,
 "nbformat_minor": 1
}
