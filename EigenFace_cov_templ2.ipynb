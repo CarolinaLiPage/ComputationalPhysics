{
 "cells": [
  {
   "cell_type": "code",
   "execution_count": 3,
   "id": "4651b984",
   "metadata": {},
   "outputs": [
    {
     "data": {
      "text/plain": [
       "'\\n3 Reconstruct an image missing from the training data\\ni_img=39 was not used for computing the eigen values u\\nsee what happens if you use this image\\n'"
      ]
     },
     "execution_count": 3,
     "metadata": {},
     "output_type": "execute_result"
    },
    {
     "data": {
      "image/png": "[encoded data removed]",
      "text/plain": [
       "<Figure size 432x288 with 1 Axes>"
      ]
     },
     "metadata": {
      "needs_background": "light"
     },
     "output_type": "display_data"
    },
    {
     "data": {
      "image/png": "[encoded data removed]",
      "text/plain": [
       "<Figure size 432x288 with 2 Axes>"
      ]
     },
     "metadata": {
      "needs_background": "light"
     },
     "output_type": "display_data"
    }
   ],
   "source": [
    "# Face recognition by Santiago Serrano\n",
    "# http://www.pages.drexel.edu/~sis26/Eigencode.htm\n",
    "# Modified by Eric Salathe Dec 2015\n",
    "from numpy import (\n",
    "    linspace,array,zeros,log,exp,sin,cos,sqrt,pi,e, \n",
    "    ones, arange, zeros, real, imag, sign, shape, dot, size,\n",
    "    mean\n",
    "    )\n",
    "\n",
    "from numpy.random import rand\n",
    "\n",
    "from matplotlib.pyplot import (\n",
    "    plot,xlabel,ylabel,legend,show, figure, subplot, title, tight_layout, stem, pcolormesh,\n",
    "    get_cmap\n",
    "    )   \n",
    "from scipy.io import loadmat\n",
    "\n",
    "'''\n",
    "Read in the image database\n",
    "This fills an 96x64x40  array called  pics where each 96x64 layer is a\n",
    "picture and there are 40 pictures (layers). \n",
    "The first pictur is pics[:,:,0]\n",
    "To make  picture number i into a single column vector, use\n",
    "X=pics[:,:,i].reshape((row*col,))\n",
    "'''\n",
    "# read in images\n",
    "\n",
    "infile=loadmat('/Users/kingflight/Downloads/ImageProcessing/Faces_.mat')\n",
    "pics = infile['pics']\n",
    "\n",
    "row, col, mpictot = shape(pics) # image size\n",
    "npixel = row*col # total pixels in each image\n",
    "\n",
    "'''\n",
    "Read in the EigenFaces, which form a basis for our\n",
    "  vector space of faces. Only the top few eigenfaces are necesary\n",
    "  to represent the dataset, and we can flatten the vector space. \n",
    "'''\n",
    "infile=loadmat('/Users/kingflight/Downloads/ImageProcessing/EigenFaces.mat')\n",
    "u=infile['u']\n",
    "nn, meig = shape(u) # meig is the number of eigen vectors in our basis\n",
    "\n",
    "'''\n",
    "1. Reconstruct an image in the training set using a reduced basis\n",
    "'''\n",
    "\n",
    "# Select an image from the training set onto eigen vectors\n",
    "i_img = 2 # select an arbitrary image\n",
    "picture = pics[:,:,i_img]\n",
    "\n",
    "# put the face into a vector\n",
    "X = picture.reshape((row*col,),order='F')\n",
    "\n",
    "# get the coordinates of this face in our eigenvector space using the dot prodcuct (dot(a,b) in numpy)\n",
    "#         sig_i = X•u_i\n",
    "\n",
    "sig=zeros(meig)\n",
    "### Create a for loop and compute each sig[i]\n",
    "\n",
    "\n",
    "'''\n",
    "Now reconstruct the image using a subset of eigenvectors\n",
    "here we sum over each eigenvector (ie columns of u(:,i)) after multiplying by\n",
    "the appropriate coordinate value (coord):\n",
    "\n",
    "Xrec = sig(1)*u(1) + sig(2)*u(2) + ... + sig(n)*u(n)\n",
    "\n",
    "where sig(i) are the coordinates and u(i) are the eigenvectors\n",
    "but we use a for loop to do this.\n",
    "'''\n",
    "\n",
    "m_rec = 20 # number of images to use for reconstruction < meig\n",
    "\n",
    "\n",
    "# Loop and sum over the eigenvalues\n",
    "Xrec = zeros(size(X)) # all zeros and size of the original vector\n",
    "### Create a for loop and sum to get Xrec\n",
    "\n",
    "\n",
    "\n",
    "# Note that if we were to take the above sum for m_rec=mpic, we'd be\n",
    "# exactly inverting the computation in the earlier loop that computs the\n",
    "# coordinates. By truncating the sum to fewer terms, we get an approximation. \n",
    "\n",
    "\n",
    "# plot the image coordinates\n",
    "figure(1)\n",
    "\n",
    "ll = arange(meig)\n",
    "stem(ll,sig) # this makes a \"stem plot\"\n",
    "title('Weight of Input Face') # ,'fontsize',14)\n",
    "\n",
    "# draw the face\n",
    "figure(2)\n",
    "subplot(1,2,1)\n",
    "cmap=get_cmap('gray')\n",
    "pcolormesh(picture,cmap=cmap) \n",
    "\n",
    "# draw the reconstructed image.\n",
    "subplot(1,2,2)\n",
    "pcolormesh(Xrec.reshape((row,col),order='F'),cmap=cmap) \n",
    "\n",
    "\n",
    "'''\n",
    "2 Reconstruct a messed-up image \n",
    "'''\n",
    "\n",
    "# Select an image and add some random speckle of specified amplitude\n",
    "i_img = 2 # seclect an arbitrart image\n",
    "noiselevel=2 # the magnitude of the noise relative to average\n",
    "picture = pics[:,:,i_img] + rand(row,col) * noiselevel*mean(pics[:,:,i_img]) \n",
    "\n",
    "#### Same as above from  picture = pics[:,:,i_img]  ########\n",
    "\n",
    "'''\n",
    "3 Reconstruct an image missing from the training data\n",
    "i_img=39 was not used for computing the eigen values u\n",
    "see what happens if you use this image\n",
    "'''"
   ]
  },
  {
   "cell_type": "code",
   "execution_count": null,
   "id": "e8547292",
   "metadata": {},
   "outputs": [],
   "source": []
  }
 ],
 "metadata": {
  "kernelspec": {
   "display_name": "Python 3",
   "language": "python",
   "name": "python3"
  },
  "language_info": {
   "codemirror_mode": {
    "name": "ipython",
    "version": 3
   },
   "file_extension": ".py",
   "mimetype": "text/x-python",
   "name": "python",
   "nbconvert_exporter": "python",
   "pygments_lexer": "ipython3",
   "version": "3.8.8"
  }
 },
 "nbformat": 4,
 "nbformat_minor": 5
}
