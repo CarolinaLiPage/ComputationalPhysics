{
 "cells": [
  {
   "cell_type": "code",
   "execution_count": null,
   "id": "096dc19e",
   "metadata": {},
   "outputs": [],
   "source": [
    "from numpy import linspace,array,zeros,log,exp,sin,cos,sqrt,pi,e,arange, real, imag, sign\n",
    "from matplotlib.pyplot import plot,xlabel,ylabel,legend,show, figure, subplot, title, tight_layout, stem\n",
    "from scipy.fftpack import fft\n",
    "import scipy.io.wavfile as wav\n",
    "import sounddevice as sd\n",
    "from scipy import signal\n",
    "\n",
    "# time dimension\n",
    "\n",
    "file_name='Yamaha-CS2x-Flute-C5.wav'\n",
    "Fs, f =wav.read('Yamaha-CS2x-Flute-C5.wav')\n",
    "nt = len(f)\n",
    "sd.play(f,Fs)\n",
    "\n"
   ]
  },
  {
   "cell_type": "code",
   "execution_count": null,
   "id": "c645d0c9",
   "metadata": {},
   "outputs": [],
   "source": [
    "from numpy import linspace,array,zeros,log,exp,sin,cos,sqrt,pi,e,arange, real, imag, sign\n",
    "from matplotlib.pyplot import plot,xlabel,ylabel,legend,show, figure, subplot, title, tight_layout, stem\n",
    "from scipy.fftpack import fft\n",
    "import scipy.io.wavfile as wav\n",
    "import sounddevice as sd\n",
    "import numpy as np\n",
    "\n",
    "S = 0.5\n",
    "dt = 0.0001\n",
    "istart = 2\n",
    "iend = istart + int(S/dt)\n",
    "file_name='Yamaha-CS2x-Flute-C5.wav' \n",
    "Fs, f =wav.read('Yamaha-CS2x-Flute-C5.wav')\n",
    "fshort = f[istart:iend]\n",
    "\n",
    "sd.play(fshort,Fs)"
   ]
  },
  {
   "cell_type": "code",
   "execution_count": 6,
   "id": "4556f643",
   "metadata": {},
   "outputs": [
    {
     "ename": "ModuleNotFoundError",
     "evalue": "No module named 'sounddevice'",
     "output_type": "error",
     "traceback": [
      "\u001b[0;31m---------------------------------------------------------------------------\u001b[0m",
      "\u001b[0;31mModuleNotFoundError\u001b[0m                       Traceback (most recent call last)",
      "\u001b[0;32m/var/folders/t0/zqcm4zwj17ngbs1pkrgdhy4m0000gn/T/ipykernel_87931/1964526730.py\u001b[0m in \u001b[0;36m<module>\u001b[0;34m\u001b[0m\n\u001b[1;32m      3\u001b[0m \u001b[0;32mfrom\u001b[0m \u001b[0mscipy\u001b[0m\u001b[0;34m.\u001b[0m\u001b[0mfftpack\u001b[0m \u001b[0;32mimport\u001b[0m \u001b[0mfft\u001b[0m\u001b[0;34m\u001b[0m\u001b[0;34m\u001b[0m\u001b[0m\n\u001b[1;32m      4\u001b[0m \u001b[0;32mimport\u001b[0m \u001b[0mscipy\u001b[0m\u001b[0;34m.\u001b[0m\u001b[0mio\u001b[0m\u001b[0;34m.\u001b[0m\u001b[0mwavfile\u001b[0m \u001b[0;32mas\u001b[0m \u001b[0mwav\u001b[0m\u001b[0;34m\u001b[0m\u001b[0;34m\u001b[0m\u001b[0m\n\u001b[0;32m----> 5\u001b[0;31m \u001b[0;32mimport\u001b[0m \u001b[0msounddevice\u001b[0m \u001b[0;32mas\u001b[0m \u001b[0msd\u001b[0m\u001b[0;34m\u001b[0m\u001b[0;34m\u001b[0m\u001b[0m\n\u001b[0m\u001b[1;32m      6\u001b[0m \u001b[0;32mimport\u001b[0m \u001b[0mnumpy\u001b[0m \u001b[0;32mas\u001b[0m \u001b[0mnp\u001b[0m\u001b[0;34m\u001b[0m\u001b[0;34m\u001b[0m\u001b[0m\n\u001b[1;32m      7\u001b[0m \u001b[0;34m\u001b[0m\u001b[0m\n",
      "\u001b[0;31mModuleNotFoundError\u001b[0m: No module named 'sounddevice'"
     ]
    }
   ],
   "source": [
    "from numpy import linspace,array,zeros,log,exp,sin,cos,sqrt,pi,e,arange, real, imag, sign\n",
    "from matplotlib.pyplot import plot,xlabel,ylabel,legend,show, figure, subplot, title, tight_layout, stem\n",
    "from scipy.fftpack import fft\n",
    "import scipy.io.wavfile as wav\n",
    "import sounddevice as sd\n",
    "import numpy as np\n",
    "\n",
    "S = 1\n",
    "dt = 0.0001\n",
    "istart = 2\n",
    "iend = istart + int(S/dt)\n",
    "file_name='Yamaha-CS2x-Flute-C5.wav'\n",
    "Fs, f =wav.read('Yamaha-CS2x-Flute-C5.wav')\n",
    "fshort = f[istart:iend]\n",
    "\n",
    "sd.play(fshort,Fs)\n",
    "\n",
    "\n"
   ]
  },
  {
   "cell_type": "code",
   "execution_count": 5,
   "id": "72ec8b91",
   "metadata": {},
   "outputs": [
    {
     "ename": "ModuleNotFoundError",
     "evalue": "No module named 'sounddevice'",
     "output_type": "error",
     "traceback": [
      "\u001b[0;31m---------------------------------------------------------------------------\u001b[0m",
      "\u001b[0;31mModuleNotFoundError\u001b[0m                       Traceback (most recent call last)",
      "\u001b[0;32m/var/folders/t0/zqcm4zwj17ngbs1pkrgdhy4m0000gn/T/ipykernel_87931/2679288191.py\u001b[0m in \u001b[0;36m<module>\u001b[0;34m\u001b[0m\n\u001b[1;32m      3\u001b[0m \u001b[0;32mfrom\u001b[0m \u001b[0mscipy\u001b[0m\u001b[0;34m.\u001b[0m\u001b[0mfftpack\u001b[0m \u001b[0;32mimport\u001b[0m \u001b[0mfft\u001b[0m\u001b[0;34m\u001b[0m\u001b[0;34m\u001b[0m\u001b[0m\n\u001b[1;32m      4\u001b[0m \u001b[0;32mimport\u001b[0m \u001b[0mscipy\u001b[0m\u001b[0;34m.\u001b[0m\u001b[0mio\u001b[0m\u001b[0;34m.\u001b[0m\u001b[0mwavfile\u001b[0m \u001b[0;32mas\u001b[0m \u001b[0mwav\u001b[0m\u001b[0;34m\u001b[0m\u001b[0;34m\u001b[0m\u001b[0m\n\u001b[0;32m----> 5\u001b[0;31m \u001b[0;32mimport\u001b[0m \u001b[0msounddevice\u001b[0m \u001b[0;32mas\u001b[0m \u001b[0msd\u001b[0m\u001b[0;34m\u001b[0m\u001b[0;34m\u001b[0m\u001b[0m\n\u001b[0m\u001b[1;32m      6\u001b[0m \u001b[0;32mfrom\u001b[0m \u001b[0mscipy\u001b[0m \u001b[0;32mimport\u001b[0m \u001b[0msignal\u001b[0m\u001b[0;34m\u001b[0m\u001b[0;34m\u001b[0m\u001b[0m\n\u001b[1;32m      7\u001b[0m \u001b[0;34m\u001b[0m\u001b[0m\n",
      "\u001b[0;31mModuleNotFoundError\u001b[0m: No module named 'sounddevice'"
     ]
    }
   ],
   "source": [
    "\n",
    "\n",
    "from numpy import linspace,array,zeros,log,exp,sin,cos,sqrt,pi,e,arange, real, imag, sign\n",
    "from matplotlib.pyplot import plot,xlabel,ylabel,legend,show, figure, subplot, title, tight_layout, stem\n",
    "from scipy.fftpack import fft\n",
    "import scipy.io.wavfile as wav\n",
    "import sounddevice as sd\n",
    "import numpy as np\n",
    "\n",
    "S = 1.5\n",
    "dt = 0.0001\n",
    "istart = 2\n",
    "iend = istart + int(S/dt)\n",
    "file_name='Yamaha-CS2x-Flute-C5.wav' \n",
    "Fs, f =wav.read('Yamaha-CS2x-Flute-C5.wav')\n",
    "fshort = f[istart:iend]\n",
    "\n",
    "sd.play(fshort,Fs)\n",
    "\n",
    "\n",
    "\n"
   ]
  },
  {
   "cell_type": "code",
   "execution_count": null,
   "id": "065d6586",
   "metadata": {},
   "outputs": [],
   "source": [
    "\n",
    "from numpy import linspace,array,zeros,log,exp,sin,cos,sqrt,pi,e,arange, real, imag, sign\n",
    "from matplotlib.pyplot import plot,xlabel,ylabel,legend,show, figure, subplot, title, tight_layout, stem\n",
    "from scipy.fftpack import fft\n",
    "import scipy.io.wavfile as wav\n",
    "import sounddevice as sd\n",
    "import numpy as np\n",
    "\n",
    "S = 2\n",
    "dt = 0.0001\n",
    "istart = 2\n",
    "iend = istart + int(S/dt)\n",
    "file_name='Yamaha-CS2x-Flute-C5.wav' \n",
    "Fs, f =wav.read('Yamaha-CS2x-Flute-C5.wav')\n",
    "fshort = f[istart:iend]\n",
    "\n",
    "sd.play(fshort,Fs)\n",
    "\n"
   ]
  },
  {
   "cell_type": "code",
   "execution_count": null,
   "id": "68eb450c",
   "metadata": {},
   "outputs": [],
   "source": []
  }
 ],
 "metadata": {
  "kernelspec": {
   "display_name": "Python 3 (ipykernel)",
   "language": "python",
   "name": "python3"
  },
  "language_info": {
   "codemirror_mode": {
    "name": "ipython",
    "version": 3
   },
   "file_extension": ".py",
   "mimetype": "text/x-python",
   "name": "python",
   "nbconvert_exporter": "python",
   "pygments_lexer": "ipython3",
   "version": "3.9.7"
  }
 },
 "nbformat": 4,
 "nbformat_minor": 5
}
